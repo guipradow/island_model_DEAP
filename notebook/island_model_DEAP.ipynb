{
 "cells": [
  {
   "cell_type": "code",
   "execution_count": 1,
   "metadata": {},
   "outputs": [],
   "source": [
    "import array\n",
    "import random\n",
    "import numpy as np\n",
    "from deap import algorithms, base, creator, tools\n",
    "from scoop import futures"
   ]
  },
  {
   "cell_type": "code",
   "execution_count": 2,
   "metadata": {},
   "outputs": [],
   "source": [
    "def fitness_function(chromossome):\n",
    "    return sum(chromossome),"
   ]
  },
  {
   "cell_type": "code",
   "execution_count": 3,
   "metadata": {},
   "outputs": [],
   "source": [
    "# Cria o tipo de função fitness e o indivíduo\n",
    "creator.create('FitnessMax', base.Fitness, weights=(1, ))\n",
    "creator.create('Individual', list, fitness=creator.FitnessMax)\n",
    "\n",
    "toolbox = base.Toolbox()\n",
    "# Registra os nomes e tipos de indivíduo, fitness e população\n",
    "toolbox.register('attr_bool', random.randint, 0, 1)\n",
    "toolbox.register('individual', tools.initRepeat, creator.Individual,\n",
    "                 toolbox.attr_bool, 300)\n",
    "toolbox.register('population', tools.initRepeat, list, toolbox.individual)\n",
    "\n",
    "# Registra os operadores\n",
    "toolbox.register('evaluate', fitness_function)\n",
    "toolbox.register('mate', tools.cxTwoPoint)\n",
    "toolbox.register('mutate', tools.mutFlipBit, indpb=.01)\n",
    "toolbox.register('select', tools.selTournament, tournsize=5)"
   ]
  },
  {
   "cell_type": "code",
   "execution_count": 4,
   "metadata": {},
   "outputs": [],
   "source": [
    "# Registra a execução em paralelismo\n",
    "toolbox.register('map', futures.map)"
   ]
  },
  {
   "cell_type": "code",
   "execution_count": 5,
   "metadata": {},
   "outputs": [],
   "source": [
    "# Parâmetros do algirtmo\n",
    "CXPB = .8\n",
    "MUTPB = .1\n",
    "NGEN = 400\n",
    "FREQ = 10\n",
    "NPOP = 30\n",
    "NISLANDS = 5\n"
   ]
  },
  {
   "cell_type": "code",
   "execution_count": 6,
   "metadata": {},
   "outputs": [
    {
     "name": "stderr",
     "output_type": "stream",
     "text": [
      "e:\\workspace\\pesquisa-operacional\\Island_model_DEAP\\.venv\\lib\\site-packages\\scoop\\fallbacks.py:38: RuntimeWarning: SCOOP was not started properly.\n",
      "Be sure to start your program with the '-m scoop' parameter. You can find further information in the documentation.\n",
      "Your map call has been replaced by the builtin serial Python map().\n",
      "  warnings.warn(\n"
     ]
    }
   ],
   "source": [
    "# Execução do GA em ilhas\n",
    "islands = [toolbox.population(n=NPOP) for _ in range(NISLANDS)]\n",
    "toolbox.register('algorithm', algorithms.eaSimple, toolbox=toolbox, cxpb=CXPB,\n",
    "                 mutpb=MUTPB, ngen=FREQ, verbose=False)\n",
    "\n",
    "for _ in range(0, NGEN, FREQ):\n",
    "    results = toolbox.map(toolbox.algorithm, islands)\n",
    "    islands = [pop for pop, logbook in results]\n",
    "    tools.migRing(islands, 5, tools.selBest)"
   ]
  },
  {
   "cell_type": "code",
   "execution_count": 7,
   "metadata": {},
   "outputs": [
    {
     "name": "stdout",
     "output_type": "stream",
     "text": [
      "Max fitness: 300.0; Avg fitness: 299.96666666666664\n",
      "Max fitness: 300.0; Avg fitness: 299.7\n",
      "Max fitness: 300.0; Avg fitness: 299.8\n",
      "Max fitness: 300.0; Avg fitness: 299.8666666666667\n",
      "Max fitness: 300.0; Avg fitness: 299.43333333333334\n"
     ]
    }
   ],
   "source": [
    "# Imprime o fitness máximo e médio por ilhas\n",
    "for pop in islands:\n",
    "    # Armazena o fitness final de cada ilha\n",
    "    final_fitness = []\n",
    "    for individual in pop:\n",
    "        final_fitness.append(individual.fitness.values)\n",
    "    print(f'Max fitness: {max(final_fitness)[0]}; Avg fitness: {np.mean(final_fitness)}')"
   ]
  }
 ],
 "metadata": {
  "kernelspec": {
   "display_name": ".venv",
   "language": "python",
   "name": "python3"
  },
  "language_info": {
   "codemirror_mode": {
    "name": "ipython",
    "version": 3
   },
   "file_extension": ".py",
   "mimetype": "text/x-python",
   "name": "python",
   "nbconvert_exporter": "python",
   "pygments_lexer": "ipython3",
   "version": "3.10.11"
  }
 },
 "nbformat": 4,
 "nbformat_minor": 2
}
